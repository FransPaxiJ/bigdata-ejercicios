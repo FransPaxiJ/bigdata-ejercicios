{
 "cells": [
  {
   "cell_type": "markdown",
   "metadata": {},
   "source": [
    "# Importar las bibliotecas necesarias\n",
    "Importar las bibliotecas necesarias, incluyendo pandas, matplotlib y bar_chart_race."
   ]
  },
  {
   "cell_type": "code",
   "execution_count": 1,
   "metadata": {},
   "outputs": [],
   "source": [
    "# Importar las bibliotecas necesarias\n",
    "import pandas as pd\n",
    "import matplotlib.pyplot as plt\n",
    "import bar_chart_race as bcr"
   ]
  },
  {
   "cell_type": "code",
   "execution_count": 6,
   "metadata": {},
   "outputs": [
    {
     "name": "stdout",
     "output_type": "stream",
     "text": [
      "Collecting bar_chart_race\n",
      "  Downloading bar_chart_race-0.1.0-py3-none-any.whl (156 kB)\n",
      "Requirement already satisfied: matplotlib>=3.1 in c:\\users\\frans\\appdata\\local\\programs\\python\\python39\\lib\\site-packages (from bar_chart_race) (3.8.2)\n",
      "Requirement already satisfied: pandas>=0.24 in c:\\users\\frans\\appdata\\local\\programs\\python\\python39\\lib\\site-packages (from bar_chart_race) (2.2.1)\n",
      "Requirement already satisfied: numpy<2,>=1.21 in c:\\users\\frans\\appdata\\local\\programs\\python\\python39\\lib\\site-packages (from matplotlib>=3.1->bar_chart_race) (1.24.3)\n",
      "Requirement already satisfied: importlib-resources>=3.2.0 in c:\\users\\frans\\appdata\\local\\programs\\python\\python39\\lib\\site-packages (from matplotlib>=3.1->bar_chart_race) (6.1.1)\n",
      "Requirement already satisfied: contourpy>=1.0.1 in c:\\users\\frans\\appdata\\local\\programs\\python\\python39\\lib\\site-packages (from matplotlib>=3.1->bar_chart_race) (1.2.0)\n",
      "Requirement already satisfied: python-dateutil>=2.7 in c:\\users\\frans\\appdata\\local\\programs\\python\\python39\\lib\\site-packages (from matplotlib>=3.1->bar_chart_race) (2.8.2)\n",
      "Requirement already satisfied: kiwisolver>=1.3.1 in c:\\users\\frans\\appdata\\local\\programs\\python\\python39\\lib\\site-packages (from matplotlib>=3.1->bar_chart_race) (1.4.5)\n",
      "Requirement already satisfied: pyparsing>=2.3.1 in c:\\users\\frans\\appdata\\local\\programs\\python\\python39\\lib\\site-packages (from matplotlib>=3.1->bar_chart_race) (3.1.1)\n",
      "Requirement already satisfied: pillow>=8 in c:\\users\\frans\\appdata\\local\\programs\\python\\python39\\lib\\site-packages (from matplotlib>=3.1->bar_chart_race) (10.0.0)\n",
      "Requirement already satisfied: packaging>=20.0 in c:\\users\\frans\\appdata\\local\\programs\\python\\python39\\lib\\site-packages (from matplotlib>=3.1->bar_chart_race) (23.1)\n",
      "Requirement already satisfied: cycler>=0.10 in c:\\users\\frans\\appdata\\local\\programs\\python\\python39\\lib\\site-packages (from matplotlib>=3.1->bar_chart_race) (0.12.1)\n",
      "Requirement already satisfied: fonttools>=4.22.0 in c:\\users\\frans\\appdata\\local\\programs\\python\\python39\\lib\\site-packages (from matplotlib>=3.1->bar_chart_race) (4.48.1)\n",
      "Requirement already satisfied: zipp>=3.1.0 in c:\\users\\frans\\appdata\\local\\programs\\python\\python39\\lib\\site-packages (from importlib-resources>=3.2.0->matplotlib>=3.1->bar_chart_race) (3.16.2)\n",
      "Requirement already satisfied: tzdata>=2022.7 in c:\\users\\frans\\appdata\\local\\programs\\python\\python39\\lib\\site-packages (from pandas>=0.24->bar_chart_race) (2024.1)\n",
      "Requirement already satisfied: pytz>=2020.1 in c:\\users\\frans\\appdata\\local\\programs\\python\\python39\\lib\\site-packages (from pandas>=0.24->bar_chart_race) (2024.1)\n",
      "Requirement already satisfied: six>=1.5 in c:\\users\\frans\\appdata\\local\\programs\\python\\python39\\lib\\site-packages (from python-dateutil>=2.7->matplotlib>=3.1->bar_chart_race) (1.16.0)\n",
      "Installing collected packages: bar-chart-race\n",
      "Successfully installed bar-chart-race-0.1.0\n",
      "Note: you may need to restart the kernel to use updated packages.\n"
     ]
    },
    {
     "name": "stderr",
     "output_type": "stream",
     "text": [
      "WARNING: You are using pip version 21.2.3; however, version 24.0 is available.\n",
      "You should consider upgrading via the 'c:\\Users\\frans\\AppData\\Local\\Programs\\Python\\Python39\\python.exe -m pip install --upgrade pip' command.\n"
     ]
    }
   ],
   "source": [
    "%pip install bar_chart_race"
   ]
  },
  {
   "cell_type": "markdown",
   "metadata": {},
   "source": [
    "# Cargar y preparar los datos\n",
    "Cargar los datos de COVID de una fuente confiable y prepararlos para el análisis."
   ]
  },
  {
   "cell_type": "code",
   "execution_count": 12,
   "metadata": {},
   "outputs": [],
   "source": [
    "# Filtrar los datos para incluir solo los países hispanos y Brasil\n",
    "# Cargar los datos\n",
    "url = 'https://raw.githubusercontent.com/owid/covid-19-data/master/public/data/owid-covid-data.csv'\n",
    "df = pd.read_csv(url)\n",
    "\n",
    "paises_hispanos = ['Argentina', 'Bolivia', 'Chile', 'Peru', 'Mexico', 'Colombia', 'Ecuador']\n",
    "df = df[df['location'].isin(paises_hispanos)]\n",
    "\n",
    "# Preparar los datos para el análisis\n",
    "# Convertir la columna 'date' a formato de fecha\n",
    "df['date'] = pd.to_datetime(df['date'])\n",
    "\n",
    "# Establecer 'date' como índice\n",
    "df.set_index('date', inplace=True)\n",
    "\n",
    "# Agrupar los datos por 'location' y 'date' y sumar los 'new_cases'\n",
    "df = df.groupby(['location', 'date'])['new_cases'].sum().unstack('location').fillna(0)\n",
    "\n",
    "# Calcular el 'new_cases_smoothed' como el promedio móvil de 7 días de 'new_cases'\n",
    "df = df.rolling(7).mean()\n",
    "\n",
    "# Rellenar los valores NaN con 0\n",
    "df.fillna(0, inplace=True)"
   ]
  },
  {
   "cell_type": "markdown",
   "metadata": {},
   "source": [
    "# Seleccionar dos países para trabajar\n",
    "Seleccionar dos países de la lista de países hispanos y Brasil para el análisis."
   ]
  },
  {
   "cell_type": "code",
   "execution_count": 13,
   "metadata": {},
   "outputs": [],
   "source": [
    "# Seleccionar dos países para trabajar con ellos\n",
    "pais1 = 'Peru'\n",
    "pais2 = 'Mexico'\n",
    "\n",
    "# Filtrar los datos para incluir solo los dos países seleccionados\n",
    "df = df[[pais1, pais2]]"
   ]
  },
  {
   "cell_type": "markdown",
   "metadata": {},
   "source": [
    "# Crear gráficos de carrera para cada país\n",
    "Utilizar la biblioteca bar_chart_race para crear un gráfico de carrera que muestre el avance de los casos de COVID en cada país seleccionado."
   ]
  },
  {
   "cell_type": "code",
   "execution_count": 14,
   "metadata": {},
   "outputs": [
    {
     "name": "stderr",
     "output_type": "stream",
     "text": [
      "c:\\Users\\frans\\AppData\\Local\\Programs\\Python\\Python39\\lib\\site-packages\\bar_chart_race\\_make_chart.py:889: FutureWarning: Series.fillna with 'method' is deprecated and will raise in a future version. Use obj.ffill() or obj.bfill() instead.\n",
      "  df_values.iloc[:, 0] = df_values.iloc[:, 0].fillna(method='ffill')\n",
      "c:\\Users\\frans\\AppData\\Local\\Programs\\Python\\Python39\\lib\\site-packages\\bar_chart_race\\_make_chart.py:286: UserWarning: set_ticklabels() should only be used with a fixed number of ticks, i.e. after set_ticks() or using a FixedLocator.\n",
      "  ax.set_yticklabels(self.df_values.columns)\n",
      "c:\\Users\\frans\\AppData\\Local\\Programs\\Python\\Python39\\lib\\site-packages\\bar_chart_race\\_make_chart.py:287: UserWarning: set_ticklabels() should only be used with a fixed number of ticks, i.e. after set_ticks() or using a FixedLocator.\n",
      "  ax.set_xticklabels([max_val] * len(ax.get_xticks()))\n"
     ]
    }
   ],
   "source": [
    "# Crear gráficos de carrera para cada país\n",
    "bcr.bar_chart_race(\n",
    "    df=df,\n",
    "    filename='covid_race.mp4',\n",
    "    orientation='h',\n",
    "    sort='desc',\n",
    "    n_bars=6,\n",
    "    fixed_order=False,\n",
    "    fixed_max=True,\n",
    "    steps_per_period=10,\n",
    "    interpolate_period=False,\n",
    "    label_bars=True,\n",
    "    bar_size=.95,\n",
    "    period_label={'x': .99, 'y': .25, 'ha': 'right', 'va': 'center'},\n",
    "    period_fmt='%B %d, %Y',\n",
    "    period_summary_func=lambda v, r: {'x': .99, 'y': .18,\n",
    "                                      's': f'Total casos: {v.nlargest(6).sum():,.0f}',\n",
    "                                      'ha': 'right', 'size': 8, 'family': 'Arial'},\n",
    "    perpendicular_bar_func='median',\n",
    "    period_length=500,\n",
    "    figsize=(5, 3),\n",
    "    dpi=144,\n",
    "    cmap='dark12',\n",
    "    title='COVID-19 casos por país',\n",
    "    title_size='',\n",
    "    bar_label_size=7,\n",
    "    tick_label_size=7,\n",
    "    shared_fontdict={'family' : 'Arial', 'color' : '.1'},\n",
    "    scale='linear',\n",
    "    writer=None,\n",
    "    fig=None,\n",
    "    bar_kwargs={'alpha': .7},\n",
    "    filter_column_colors=False)"
   ]
  },
  {
   "cell_type": "markdown",
   "metadata": {},
   "source": [
    "# Crear un mosaico de videos (solo me funciona en COLAB)\n",
    "Combinar los videos de los gráficos de carrera en un mosaico para una visualización simultánea."
   ]
  },
  {
   "cell_type": "code",
   "execution_count": 1,
   "metadata": {},
   "outputs": [
    {
     "ename": "AttributeError",
     "evalue": "module 'PIL.Image' has no attribute 'ANTIALIAS'",
     "output_type": "error",
     "traceback": [
      "\u001b[1;31m---------------------------------------------------------------------------\u001b[0m",
      "\u001b[1;31mAttributeError\u001b[0m                            Traceback (most recent call last)",
      "Cell \u001b[1;32mIn[1], line 12\u001b[0m\n\u001b[0;32m      9\u001b[0m clip1 \u001b[38;5;241m=\u001b[39m clip1\u001b[38;5;241m.\u001b[39msubclip(\u001b[38;5;241m0\u001b[39m, clip2\u001b[38;5;241m.\u001b[39mduration)\n\u001b[0;32m     11\u001b[0m \u001b[38;5;66;03m# Cambiar las dimensiones del fotograma y la velocidad de fotograma\u001b[39;00m\n\u001b[1;32m---> 12\u001b[0m clip1 \u001b[38;5;241m=\u001b[39m \u001b[43mclip1\u001b[49m\u001b[38;5;241;43m.\u001b[39;49m\u001b[43mresize\u001b[49m\u001b[43m(\u001b[49m\u001b[43m(\u001b[49m\u001b[38;5;241;43m790\u001b[39;49m\u001b[43m,\u001b[49m\u001b[43m \u001b[49m\u001b[38;5;241;43m432\u001b[39;49m\u001b[43m)\u001b[49m\u001b[43m)\u001b[49m\u001b[38;5;241m.\u001b[39mset_duration(\u001b[38;5;241m20\u001b[39m)\n\u001b[0;32m     13\u001b[0m clip2 \u001b[38;5;241m=\u001b[39m clip2\u001b[38;5;241m.\u001b[39mresize((\u001b[38;5;241m790\u001b[39m, \u001b[38;5;241m432\u001b[39m))\u001b[38;5;241m.\u001b[39mset_duration(\u001b[38;5;241m20\u001b[39m)\n\u001b[0;32m     15\u001b[0m \u001b[38;5;66;03m# Crear un mosaico de videos (1x2)\u001b[39;00m\n",
      "File \u001b[1;32mc:\\Users\\frans\\AppData\\Local\\Programs\\Python\\Python39\\lib\\site-packages\\moviepy\\video\\fx\\resize.py:152\u001b[0m, in \u001b[0;36mresize\u001b[1;34m(clip, newsize, height, width, apply_to_mask)\u001b[0m\n\u001b[0;32m    149\u001b[0m \u001b[38;5;28;01melse\u001b[39;00m:\n\u001b[0;32m    150\u001b[0m     fl \u001b[38;5;241m=\u001b[39m \u001b[38;5;28;01mlambda\u001b[39;00m pic: resizer(pic\u001b[38;5;241m.\u001b[39mastype(\u001b[38;5;124m'\u001b[39m\u001b[38;5;124muint8\u001b[39m\u001b[38;5;124m'\u001b[39m), newsize)\n\u001b[1;32m--> 152\u001b[0m newclip \u001b[38;5;241m=\u001b[39m \u001b[43mclip\u001b[49m\u001b[38;5;241;43m.\u001b[39;49m\u001b[43mfl_image\u001b[49m\u001b[43m(\u001b[49m\u001b[43mfl\u001b[49m\u001b[43m)\u001b[49m\n\u001b[0;32m    154\u001b[0m \u001b[38;5;28;01mif\u001b[39;00m apply_to_mask \u001b[38;5;129;01mand\u001b[39;00m clip\u001b[38;5;241m.\u001b[39mmask \u001b[38;5;129;01mis\u001b[39;00m \u001b[38;5;129;01mnot\u001b[39;00m \u001b[38;5;28;01mNone\u001b[39;00m:\n\u001b[0;32m    155\u001b[0m     newclip\u001b[38;5;241m.\u001b[39mmask \u001b[38;5;241m=\u001b[39m resize(clip\u001b[38;5;241m.\u001b[39mmask, newsize, apply_to_mask\u001b[38;5;241m=\u001b[39m\u001b[38;5;28;01mFalse\u001b[39;00m)\n",
      "File \u001b[1;32mc:\\Users\\frans\\AppData\\Local\\Programs\\Python\\Python39\\lib\\site-packages\\moviepy\\video\\VideoClip.py:490\u001b[0m, in \u001b[0;36mVideoClip.fl_image\u001b[1;34m(self, image_func, apply_to)\u001b[0m\n\u001b[0;32m    485\u001b[0m \u001b[38;5;250m\u001b[39m\u001b[38;5;124;03m\"\"\"\u001b[39;00m\n\u001b[0;32m    486\u001b[0m \u001b[38;5;124;03mModifies the images of a clip by replacing the frame\u001b[39;00m\n\u001b[0;32m    487\u001b[0m \u001b[38;5;124;03m`get_frame(t)` by another frame,  `image_func(get_frame(t))`\u001b[39;00m\n\u001b[0;32m    488\u001b[0m \u001b[38;5;124;03m\"\"\"\u001b[39;00m\n\u001b[0;32m    489\u001b[0m apply_to \u001b[38;5;241m=\u001b[39m apply_to \u001b[38;5;129;01mor\u001b[39;00m []\n\u001b[1;32m--> 490\u001b[0m \u001b[38;5;28;01mreturn\u001b[39;00m \u001b[38;5;28;43mself\u001b[39;49m\u001b[38;5;241;43m.\u001b[39;49m\u001b[43mfl\u001b[49m\u001b[43m(\u001b[49m\u001b[38;5;28;43;01mlambda\u001b[39;49;00m\u001b[43m \u001b[49m\u001b[43mgf\u001b[49m\u001b[43m,\u001b[49m\u001b[43m \u001b[49m\u001b[43mt\u001b[49m\u001b[43m:\u001b[49m\u001b[43m \u001b[49m\u001b[43mimage_func\u001b[49m\u001b[43m(\u001b[49m\u001b[43mgf\u001b[49m\u001b[43m(\u001b[49m\u001b[43mt\u001b[49m\u001b[43m)\u001b[49m\u001b[43m)\u001b[49m\u001b[43m,\u001b[49m\u001b[43m \u001b[49m\u001b[43mapply_to\u001b[49m\u001b[43m)\u001b[49m\n",
      "File \u001b[1;32mc:\\Users\\frans\\AppData\\Local\\Programs\\Python\\Python39\\lib\\site-packages\\moviepy\\Clip.py:136\u001b[0m, in \u001b[0;36mClip.fl\u001b[1;34m(self, fun, apply_to, keep_duration)\u001b[0m\n\u001b[0;32m    133\u001b[0m     apply_to \u001b[38;5;241m=\u001b[39m []\n\u001b[0;32m    135\u001b[0m \u001b[38;5;66;03m#mf = copy(self.make_frame)\u001b[39;00m\n\u001b[1;32m--> 136\u001b[0m newclip \u001b[38;5;241m=\u001b[39m \u001b[38;5;28;43mself\u001b[39;49m\u001b[38;5;241;43m.\u001b[39;49m\u001b[43mset_make_frame\u001b[49m\u001b[43m(\u001b[49m\u001b[38;5;28;43;01mlambda\u001b[39;49;00m\u001b[43m \u001b[49m\u001b[43mt\u001b[49m\u001b[43m:\u001b[49m\u001b[43m \u001b[49m\u001b[43mfun\u001b[49m\u001b[43m(\u001b[49m\u001b[38;5;28;43mself\u001b[39;49m\u001b[38;5;241;43m.\u001b[39;49m\u001b[43mget_frame\u001b[49m\u001b[43m,\u001b[49m\u001b[43m \u001b[49m\u001b[43mt\u001b[49m\u001b[43m)\u001b[49m\u001b[43m)\u001b[49m\n\u001b[0;32m    138\u001b[0m \u001b[38;5;28;01mif\u001b[39;00m \u001b[38;5;129;01mnot\u001b[39;00m keep_duration:\n\u001b[0;32m    139\u001b[0m     newclip\u001b[38;5;241m.\u001b[39mduration \u001b[38;5;241m=\u001b[39m \u001b[38;5;28;01mNone\u001b[39;00m\n",
      "File \u001b[1;32m<decorator-gen-79>:2\u001b[0m, in \u001b[0;36mset_make_frame\u001b[1;34m(self, mf)\u001b[0m\n",
      "File \u001b[1;32mc:\\Users\\frans\\AppData\\Local\\Programs\\Python\\Python39\\lib\\site-packages\\moviepy\\decorators.py:14\u001b[0m, in \u001b[0;36moutplace\u001b[1;34m(f, clip, *a, **k)\u001b[0m\n\u001b[0;32m     12\u001b[0m \u001b[38;5;250m\u001b[39m\u001b[38;5;124;03m\"\"\" Applies f(clip.copy(), *a, **k) and returns clip.copy()\"\"\"\u001b[39;00m\n\u001b[0;32m     13\u001b[0m newclip \u001b[38;5;241m=\u001b[39m clip\u001b[38;5;241m.\u001b[39mcopy()\n\u001b[1;32m---> 14\u001b[0m f(newclip, \u001b[38;5;241m*\u001b[39ma, \u001b[38;5;241m*\u001b[39m\u001b[38;5;241m*\u001b[39mk)\n\u001b[0;32m     15\u001b[0m \u001b[38;5;28;01mreturn\u001b[39;00m newclip\n",
      "File \u001b[1;32mc:\\Users\\frans\\AppData\\Local\\Programs\\Python\\Python39\\lib\\site-packages\\moviepy\\video\\VideoClip.py:644\u001b[0m, in \u001b[0;36mVideoClip.set_make_frame\u001b[1;34m(self, mf)\u001b[0m\n\u001b[0;32m    638\u001b[0m \u001b[38;5;250m\u001b[39m\u001b[38;5;124;03m\"\"\"Change the clip's ``get_frame``.\u001b[39;00m\n\u001b[0;32m    639\u001b[0m \n\u001b[0;32m    640\u001b[0m \u001b[38;5;124;03mReturns a copy of the VideoClip instance, with the make_frame\u001b[39;00m\n\u001b[0;32m    641\u001b[0m \u001b[38;5;124;03mattribute set to `mf`.\u001b[39;00m\n\u001b[0;32m    642\u001b[0m \u001b[38;5;124;03m\"\"\"\u001b[39;00m\n\u001b[0;32m    643\u001b[0m \u001b[38;5;28mself\u001b[39m\u001b[38;5;241m.\u001b[39mmake_frame \u001b[38;5;241m=\u001b[39m mf\n\u001b[1;32m--> 644\u001b[0m \u001b[38;5;28mself\u001b[39m\u001b[38;5;241m.\u001b[39msize \u001b[38;5;241m=\u001b[39m \u001b[38;5;28;43mself\u001b[39;49m\u001b[38;5;241;43m.\u001b[39;49m\u001b[43mget_frame\u001b[49m\u001b[43m(\u001b[49m\u001b[38;5;241;43m0\u001b[39;49m\u001b[43m)\u001b[49m\u001b[38;5;241m.\u001b[39mshape[:\u001b[38;5;241m2\u001b[39m][::\u001b[38;5;241m-\u001b[39m\u001b[38;5;241m1\u001b[39m]\n",
      "File \u001b[1;32m<decorator-gen-29>:2\u001b[0m, in \u001b[0;36mget_frame\u001b[1;34m(self, t)\u001b[0m\n",
      "File \u001b[1;32mc:\\Users\\frans\\AppData\\Local\\Programs\\Python\\Python39\\lib\\site-packages\\moviepy\\decorators.py:89\u001b[0m, in \u001b[0;36mpreprocess_args.<locals>.wrapper\u001b[1;34m(f, *a, **kw)\u001b[0m\n\u001b[0;32m     85\u001b[0m new_a \u001b[38;5;241m=\u001b[39m [fun(arg) \u001b[38;5;28;01mif\u001b[39;00m (name \u001b[38;5;129;01min\u001b[39;00m varnames) \u001b[38;5;28;01melse\u001b[39;00m arg\n\u001b[0;32m     86\u001b[0m          \u001b[38;5;28;01mfor\u001b[39;00m (arg, name) \u001b[38;5;129;01min\u001b[39;00m \u001b[38;5;28mzip\u001b[39m(a, names)]\n\u001b[0;32m     87\u001b[0m new_kw \u001b[38;5;241m=\u001b[39m {k: fun(v) \u001b[38;5;28;01mif\u001b[39;00m k \u001b[38;5;129;01min\u001b[39;00m varnames \u001b[38;5;28;01melse\u001b[39;00m v\n\u001b[0;32m     88\u001b[0m          \u001b[38;5;28;01mfor\u001b[39;00m (k,v) \u001b[38;5;129;01min\u001b[39;00m kw\u001b[38;5;241m.\u001b[39mitems()}\n\u001b[1;32m---> 89\u001b[0m \u001b[38;5;28;01mreturn\u001b[39;00m f(\u001b[38;5;241m*\u001b[39mnew_a, \u001b[38;5;241m*\u001b[39m\u001b[38;5;241m*\u001b[39mnew_kw)\n",
      "File \u001b[1;32mc:\\Users\\frans\\AppData\\Local\\Programs\\Python\\Python39\\lib\\site-packages\\moviepy\\Clip.py:93\u001b[0m, in \u001b[0;36mClip.get_frame\u001b[1;34m(self, t)\u001b[0m\n\u001b[0;32m     91\u001b[0m         \u001b[38;5;28;01mreturn\u001b[39;00m frame\n\u001b[0;32m     92\u001b[0m \u001b[38;5;28;01melse\u001b[39;00m:\n\u001b[1;32m---> 93\u001b[0m     \u001b[38;5;28;01mreturn\u001b[39;00m \u001b[38;5;28;43mself\u001b[39;49m\u001b[38;5;241;43m.\u001b[39;49m\u001b[43mmake_frame\u001b[49m\u001b[43m(\u001b[49m\u001b[43mt\u001b[49m\u001b[43m)\u001b[49m\n",
      "File \u001b[1;32mc:\\Users\\frans\\AppData\\Local\\Programs\\Python\\Python39\\lib\\site-packages\\moviepy\\Clip.py:136\u001b[0m, in \u001b[0;36mClip.fl.<locals>.<lambda>\u001b[1;34m(t)\u001b[0m\n\u001b[0;32m    133\u001b[0m     apply_to \u001b[38;5;241m=\u001b[39m []\n\u001b[0;32m    135\u001b[0m \u001b[38;5;66;03m#mf = copy(self.make_frame)\u001b[39;00m\n\u001b[1;32m--> 136\u001b[0m newclip \u001b[38;5;241m=\u001b[39m \u001b[38;5;28mself\u001b[39m\u001b[38;5;241m.\u001b[39mset_make_frame(\u001b[38;5;28;01mlambda\u001b[39;00m t: \u001b[43mfun\u001b[49m\u001b[43m(\u001b[49m\u001b[38;5;28;43mself\u001b[39;49m\u001b[38;5;241;43m.\u001b[39;49m\u001b[43mget_frame\u001b[49m\u001b[43m,\u001b[49m\u001b[43m \u001b[49m\u001b[43mt\u001b[49m\u001b[43m)\u001b[49m)\n\u001b[0;32m    138\u001b[0m \u001b[38;5;28;01mif\u001b[39;00m \u001b[38;5;129;01mnot\u001b[39;00m keep_duration:\n\u001b[0;32m    139\u001b[0m     newclip\u001b[38;5;241m.\u001b[39mduration \u001b[38;5;241m=\u001b[39m \u001b[38;5;28;01mNone\u001b[39;00m\n",
      "File \u001b[1;32mc:\\Users\\frans\\AppData\\Local\\Programs\\Python\\Python39\\lib\\site-packages\\moviepy\\video\\VideoClip.py:490\u001b[0m, in \u001b[0;36mVideoClip.fl_image.<locals>.<lambda>\u001b[1;34m(gf, t)\u001b[0m\n\u001b[0;32m    485\u001b[0m \u001b[38;5;250m\u001b[39m\u001b[38;5;124;03m\"\"\"\u001b[39;00m\n\u001b[0;32m    486\u001b[0m \u001b[38;5;124;03mModifies the images of a clip by replacing the frame\u001b[39;00m\n\u001b[0;32m    487\u001b[0m \u001b[38;5;124;03m`get_frame(t)` by another frame,  `image_func(get_frame(t))`\u001b[39;00m\n\u001b[0;32m    488\u001b[0m \u001b[38;5;124;03m\"\"\"\u001b[39;00m\n\u001b[0;32m    489\u001b[0m apply_to \u001b[38;5;241m=\u001b[39m apply_to \u001b[38;5;129;01mor\u001b[39;00m []\n\u001b[1;32m--> 490\u001b[0m \u001b[38;5;28;01mreturn\u001b[39;00m \u001b[38;5;28mself\u001b[39m\u001b[38;5;241m.\u001b[39mfl(\u001b[38;5;28;01mlambda\u001b[39;00m gf, t: \u001b[43mimage_func\u001b[49m\u001b[43m(\u001b[49m\u001b[43mgf\u001b[49m\u001b[43m(\u001b[49m\u001b[43mt\u001b[49m\u001b[43m)\u001b[49m\u001b[43m)\u001b[49m, apply_to)\n",
      "File \u001b[1;32mc:\\Users\\frans\\AppData\\Local\\Programs\\Python\\Python39\\lib\\site-packages\\moviepy\\video\\fx\\resize.py:150\u001b[0m, in \u001b[0;36mresize.<locals>.<lambda>\u001b[1;34m(pic)\u001b[0m\n\u001b[0;32m    147\u001b[0m     fl \u001b[38;5;241m=\u001b[39m \u001b[38;5;28;01mlambda\u001b[39;00m pic: \u001b[38;5;241m1.0\u001b[39m\u001b[38;5;241m*\u001b[39mresizer((\u001b[38;5;241m255\u001b[39m \u001b[38;5;241m*\u001b[39m pic)\u001b[38;5;241m.\u001b[39mastype(\u001b[38;5;124m'\u001b[39m\u001b[38;5;124muint8\u001b[39m\u001b[38;5;124m'\u001b[39m), newsize)\u001b[38;5;241m/\u001b[39m\u001b[38;5;241m255.0\u001b[39m\n\u001b[0;32m    149\u001b[0m \u001b[38;5;28;01melse\u001b[39;00m:\n\u001b[1;32m--> 150\u001b[0m     fl \u001b[38;5;241m=\u001b[39m \u001b[38;5;28;01mlambda\u001b[39;00m pic: \u001b[43mresizer\u001b[49m\u001b[43m(\u001b[49m\u001b[43mpic\u001b[49m\u001b[38;5;241;43m.\u001b[39;49m\u001b[43mastype\u001b[49m\u001b[43m(\u001b[49m\u001b[38;5;124;43m'\u001b[39;49m\u001b[38;5;124;43muint8\u001b[39;49m\u001b[38;5;124;43m'\u001b[39;49m\u001b[43m)\u001b[49m\u001b[43m,\u001b[49m\u001b[43m \u001b[49m\u001b[43mnewsize\u001b[49m\u001b[43m)\u001b[49m\n\u001b[0;32m    152\u001b[0m newclip \u001b[38;5;241m=\u001b[39m clip\u001b[38;5;241m.\u001b[39mfl_image(fl)\n\u001b[0;32m    154\u001b[0m \u001b[38;5;28;01mif\u001b[39;00m apply_to_mask \u001b[38;5;129;01mand\u001b[39;00m clip\u001b[38;5;241m.\u001b[39mmask \u001b[38;5;129;01mis\u001b[39;00m \u001b[38;5;129;01mnot\u001b[39;00m \u001b[38;5;28;01mNone\u001b[39;00m:\n",
      "File \u001b[1;32mc:\\Users\\frans\\AppData\\Local\\Programs\\Python\\Python39\\lib\\site-packages\\moviepy\\video\\fx\\resize.py:37\u001b[0m, in \u001b[0;36mresizer\u001b[1;34m(pic, newsize)\u001b[0m\n\u001b[0;32m     34\u001b[0m     newshape \u001b[38;5;241m=\u001b[39m (newsize[\u001b[38;5;241m0\u001b[39m],newsize[\u001b[38;5;241m1\u001b[39m])\n\u001b[0;32m     36\u001b[0m pilim \u001b[38;5;241m=\u001b[39m Image\u001b[38;5;241m.\u001b[39mfromarray(pic)\n\u001b[1;32m---> 37\u001b[0m resized_pil \u001b[38;5;241m=\u001b[39m pilim\u001b[38;5;241m.\u001b[39mresize(newsize[::\u001b[38;5;241m-\u001b[39m\u001b[38;5;241m1\u001b[39m], \u001b[43mImage\u001b[49m\u001b[38;5;241;43m.\u001b[39;49m\u001b[43mANTIALIAS\u001b[49m)\n\u001b[0;32m     38\u001b[0m \u001b[38;5;66;03m#arr = np.fromstring(resized_pil.tostring(), dtype='uint8')\u001b[39;00m\n\u001b[0;32m     39\u001b[0m \u001b[38;5;66;03m#arr.reshape(newshape)\u001b[39;00m\n\u001b[0;32m     40\u001b[0m \u001b[38;5;28;01mreturn\u001b[39;00m np\u001b[38;5;241m.\u001b[39marray(resized_pil)\n",
      "\u001b[1;31mAttributeError\u001b[0m: module 'PIL.Image' has no attribute 'ANTIALIAS'"
     ]
    }
   ],
   "source": [
    "# Importar la biblioteca necesaria para la creación del mosaico de videos\n",
    "from moviepy.editor import concatenate_videoclips, clips_array, VideoFileClip\n",
    "import os\n",
    "\n",
    "# Verificar que los archivos de video existen\n",
    "videos = [\"covid_race_bolivia.mp4\", \"covid_race_ecuador.mp4\", \"covid_race_argentina.mp4\", \"covid_race_mexico.mp4\"]\n",
    "for video in videos:\n",
    "    if not os.path.isfile(video):\n",
    "        print(f\"El archivo de video {video} no existe.\")\n",
    "        exit(1)\n",
    "\n",
    "# Cargar los videos\n",
    "video1 = VideoFileClip(videos[0])\n",
    "video2 = VideoFileClip(videos[1])\n",
    "video3 = VideoFileClip(videos[2])\n",
    "video4 = VideoFileClip(videos[3])\n",
    "\n",
    "# Crear un mosaico de videos\n",
    "mosaico = clips_array([[video1, video2], [video3, video4]])\n",
    "\n",
    "# Guardar el mosaico de videos\n",
    "mosaico.write_videofile(\"mosaico_covid_race.mp4\")"
   ]
  }
 ],
 "metadata": {
  "kernelspec": {
   "display_name": "Python 3",
   "language": "python",
   "name": "python3"
  },
  "language_info": {
   "codemirror_mode": {
    "name": "ipython",
    "version": 3
   },
   "file_extension": ".py",
   "mimetype": "text/x-python",
   "name": "python",
   "nbconvert_exporter": "python",
   "pygments_lexer": "ipython3",
   "version": "3.9.7"
  }
 },
 "nbformat": 4,
 "nbformat_minor": 2
}
