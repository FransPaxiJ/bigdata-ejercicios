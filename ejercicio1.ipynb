{
 "cells": [
  {
   "cell_type": "code",
   "execution_count": 32,
   "metadata": {},
   "outputs": [],
   "source": [
    "import pandas as pd"
   ]
  },
  {
   "cell_type": "code",
   "execution_count": 33,
   "metadata": {},
   "outputs": [],
   "source": [
    "data = pd.read_csv(\"https://docs.google.com/spreadsheets/d/e/2PACX-1vQi_oyAGw9BCdUcSFxrVMK3aC5QGYYl2qLmUJF7VMw968wmJZ7atgtiKbPTV6q-4LlFGf3jgaz1Ei0y/pub?gid=1093665091&single=true&output=csv\")"
   ]
  },
  {
   "cell_type": "code",
   "execution_count": 34,
   "metadata": {},
   "outputs": [
    {
     "name": "stdout",
     "output_type": "stream",
     "text": [
      "La suma de los ingresos es:  76180\n"
     ]
    }
   ],
   "source": [
    "# Ingresos totales de todas las personas\n",
    "suma_ingresos = data[\"ingresos\"].sum()\n",
    "print(\"La suma de los ingresos es: \", suma_ingresos)"
   ]
  },
  {
   "cell_type": "code",
   "execution_count": 35,
   "metadata": {},
   "outputs": [
    {
     "name": "stdout",
     "output_type": "stream",
     "text": [
      "personas arequipa       nombre  edad    ciudad  ingresos\n",
      "1      María    28  Arequipa      3800\n",
      "4      Pedro    28  Arequipa      3200\n",
      "10  Gabriela    33  Arequipa      4000\n",
      "15    Javier    32  Arequipa      5000\n",
      "21      José    34  Arequipa      4200\n"
     ]
    }
   ],
   "source": [
    "# promedio de edad de las personas de arequipa\n",
    "promedio_edad = data[\"edad\"].mean()\n",
    "personas_arequipa = data[data[\"ciudad\"] == \"Arequipa\"]\n",
    "promedio_edad_arequipa = personas_arequipa[\"edad\"].mean()\n",
    "print(\"personas arequipa\", personas_arequipa)\n",
    "#print(\"El promedio de edad es:\", promedio_edad_arequipa)"
   ]
  },
  {
   "cell_type": "code",
   "execution_count": 36,
   "metadata": {},
   "outputs": [
    {
     "name": "stdout",
     "output_type": "stream",
     "text": [
      "El promedio de ingresos en Lima es: 3366.6666666666665\n",
      "El promedio de ingresos en Arequipa es: 4040.0\n",
      "El promedio de ingresos en Cusco es: 2975.0\n",
      "El promedio de ingresos en Juliaca es: 4990.0\n",
      "El promedio de ingresos en Trujillo es: 2520.0\n",
      "El promedio de ingresos en Puno es: 1300.0\n"
     ]
    }
   ],
   "source": [
    "\n",
    "# promedio de ingresos por ciudad\n",
    "promedio_ingreso_lima = data[data[\"ciudad\"] == \"Lima\"][\"ingresos\"].mean()\n",
    "promedio_ingreso_arequipa = data[data[\"ciudad\"] == \"Arequipa\"][\"ingresos\"].mean()\n",
    "promedio_ingreso_cusco = data[data[\"ciudad\"] == \"Cusco\"][\"ingresos\"].mean()\n",
    "promedio_ingreso_juliacaca = data[data[\"ciudad\"] == \"Juliaca\"][\"ingresos\"].mean()\n",
    "promedio_ingreso_trujillo = data[data[\"ciudad\"] == \"Trujillo\"][\"ingresos\"].mean()\n",
    "promedio_ingreso_puno = data[data[\"ciudad\"] == \"Puno\"][\"ingresos\"].mean()\n",
    "print(\"El promedio de ingresos en Lima es:\", promedio_ingreso_lima)\n",
    "print(\"El promedio de ingresos en Arequipa es:\", promedio_ingreso_arequipa)\n",
    "print(\"El promedio de ingresos en Cusco es:\", promedio_ingreso_cusco)\n",
    "print(\"El promedio de ingresos en Juliaca es:\", promedio_ingreso_juliacaca)\n",
    "print(\"El promedio de ingresos en Trujillo es:\", promedio_ingreso_trujillo)\n",
    "print(\"El promedio de ingresos en Puno es:\", promedio_ingreso_puno)\n",
    "\n"
   ]
  },
  {
   "cell_type": "code",
   "execution_count": 37,
   "metadata": {},
   "outputs": [
    {
     "name": "stdout",
     "output_type": "stream",
     "text": [
      "La persona mas joven es:      nombre  edad   ciudad  ingresos\n",
      "11  Micaela    21  Juliaca      5000\n",
      "La persona menos joven es:    nombre  edad   ciudad  ingresos\n",
      "5  Leonel    64  Juliaca      4980\n"
     ]
    }
   ],
   "source": [
    "# calcular la persona mas joven y la persona menos joven\n",
    "persona_mas_joven = data[data[\"edad\"] == data[\"edad\"].min()]\n",
    "persona_menos_joven = data[data[\"edad\"] == data[\"edad\"].max()]\n",
    "print(\"La persona mas joven es:\", persona_mas_joven)\n",
    "print(\"La persona menos joven es:\", persona_menos_joven)"
   ]
  }
 ],
 "metadata": {
  "kernelspec": {
   "display_name": "Python 3",
   "language": "python",
   "name": "python3"
  },
  "language_info": {
   "codemirror_mode": {
    "name": "ipython",
    "version": 3
   },
   "file_extension": ".py",
   "mimetype": "text/x-python",
   "name": "python",
   "nbconvert_exporter": "python",
   "pygments_lexer": "ipython3",
   "version": "3.9.7"
  }
 },
 "nbformat": 4,
 "nbformat_minor": 2
}
