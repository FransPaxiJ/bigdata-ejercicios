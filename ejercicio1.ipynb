{
 "cells": [
  {
   "cell_type": "code",
   "execution_count": 1,
   "metadata": {},
   "outputs": [],
   "source": [
    "import pandas as pd"
   ]
  },
  {
   "cell_type": "code",
   "execution_count": 2,
   "metadata": {},
   "outputs": [],
   "source": [
    "data = pd.read_csv(\"https://docs.google.com/spreadsheets/d/e/2PACX-1vQi_oyAGw9BCdUcSFxrVMK3aC5QGYYl2qLmUJF7VMw968wmJZ7atgtiKbPTV6q-4LlFGf3jgaz1Ei0y/pub?gid=1093665091&single=true&output=csv\")"
   ]
  },
  {
   "cell_type": "code",
   "execution_count": 4,
   "metadata": {},
   "outputs": [
    {
     "name": "stdout",
     "output_type": "stream",
     "text": [
      "La suma de los ingresos es:  76180\n"
     ]
    }
   ],
   "source": [
    "suma_ingresos = data[\"ingresos\"].sum()\n",
    "print(\"La suma de los ingresos es: \", suma_ingresos)"
   ]
  },
  {
   "cell_type": "code",
   "execution_count": 13,
   "metadata": {},
   "outputs": [
    {
     "name": "stdout",
     "output_type": "stream",
     "text": [
      "personas arequipa       nombre  edad    ciudad  ingresos\n",
      "1      María    28  Arequipa      3800\n",
      "4      Pedro    28  Arequipa      3200\n",
      "10  Gabriela    33  Arequipa      4000\n",
      "15    Javier    32  Arequipa      5000\n",
      "21      José    34  Arequipa      4200\n",
      "El promedio de edad es: 31.0\n"
     ]
    }
   ],
   "source": [
    "promedio_edad = data[\"edad\"].mean()\n",
    "personas_arequipa = data[data[\"ciudad\"] == \"Arequipa\"]\n",
    "promedio_edad_arequipa = personas_arequipa[\"edad\"].mean()\n",
    "print(\"personas arequipa\", personas_arequipa)\n",
    "#print(\"El promedio de edad es:\", promedio_edad_arequipa)"
   ]
  },
  {
   "cell_type": "code",
   "execution_count": null,
   "metadata": {},
   "outputs": [],
   "source": []
  }
 ],
 "metadata": {
  "kernelspec": {
   "display_name": "Python 3",
   "language": "python",
   "name": "python3"
  },
  "language_info": {
   "codemirror_mode": {
    "name": "ipython",
    "version": 3
   },
   "file_extension": ".py",
   "mimetype": "text/x-python",
   "name": "python",
   "nbconvert_exporter": "python",
   "pygments_lexer": "ipython3",
   "version": "3.9.7"
  }
 },
 "nbformat": 4,
 "nbformat_minor": 2
}
