{
  "cells": [
    {
      "cell_type": "code",
      "execution_count": null,
      "metadata": {
        "colab": {
          "base_uri": "https://localhost:8080/"
        },
        "id": "Hrjj_C64LxVR",
        "outputId": "acebe2bc-c746-431b-907c-1922999e6016"
      },
      "outputs": [
        {
          "output_type": "stream",
          "name": "stdout",
          "text": [
            "Collecting pyspark\n",
            "  Downloading pyspark-3.5.1.tar.gz (317.0 MB)\n",
            "\u001b[2K     \u001b[90m━━━━━━━━━━━━━━━━━━━━━━━━━━━━━━━━━━━━━━━━\u001b[0m \u001b[32m317.0/317.0 MB\u001b[0m \u001b[31m2.2 MB/s\u001b[0m eta \u001b[36m0:00:00\u001b[0m\n",
            "\u001b[?25h  Preparing metadata (setup.py) ... \u001b[?25l\u001b[?25hdone\n",
            "Requirement already satisfied: py4j==0.10.9.7 in /usr/local/lib/python3.10/dist-packages (from pyspark) (0.10.9.7)\n",
            "Building wheels for collected packages: pyspark\n",
            "  Building wheel for pyspark (setup.py) ... \u001b[?25l\u001b[?25hdone\n",
            "  Created wheel for pyspark: filename=pyspark-3.5.1-py2.py3-none-any.whl size=317488491 sha256=851d790b0eb0bd76ec581014557480dd3d504855935604074d5b25f2d204660f\n",
            "  Stored in directory: /root/.cache/pip/wheels/80/1d/60/2c256ed38dddce2fdd93be545214a63e02fbd8d74fb0b7f3a6\n",
            "Successfully built pyspark\n",
            "Installing collected packages: pyspark\n",
            "Successfully installed pyspark-3.5.1\n"
          ]
        }
      ],
      "source": [
        "# Esto descargara\n",
        "%pip install pyspark"
      ]
    },
    {
      "cell_type": "code",
      "execution_count": null,
      "metadata": {
        "id": "uRFx0S2RLxVT"
      },
      "outputs": [],
      "source": [
        "from pyspark import SparkContext"
      ]
    },
    {
      "cell_type": "code",
      "execution_count": null,
      "metadata": {
        "id": "VJID-1jbLxVU"
      },
      "outputs": [],
      "source": [
        "# Stop the current SparkContext\n",
        "#sc.stop()\n",
        "\n",
        "# Create a new SparkContext\n",
        "sc = SparkContext()"
      ]
    },
    {
      "cell_type": "code",
      "execution_count": null,
      "metadata": {
        "colab": {
          "base_uri": "https://localhost:8080/"
        },
        "id": "QhfxQan7LxVU",
        "outputId": "aaabb6fa-e3e3-4908-d493-11f94d2c280b"
      },
      "outputs": [
        {
          "output_type": "stream",
          "name": "stdout",
          "text": [
            "Writing ejemplo.txt\n"
          ]
        }
      ],
      "source": [
        "%%writefile ejemplo.txt\n",
        "Primera linea\n",
        "Segunda linea\n",
        "Tercera linea\n",
        "Cuarta linea"
      ]
    },
    {
      "cell_type": "code",
      "execution_count": 13,
      "metadata": {
        "id": "eS3QZ7PALxVV"
      },
      "outputs": [],
      "source": [
        "# Abrimos el archivo de texto con la variable sc\n",
        "textFile = sc.textFile(\"ejemplo.txt\")"
      ]
    },
    {
      "cell_type": "code",
      "execution_count": 15,
      "metadata": {
        "colab": {
          "base_uri": "https://localhost:8080/"
        },
        "id": "IjUchWxdLxVW",
        "outputId": "ff0a03cc-a17b-4c02-8eaf-0c879b49d930"
      },
      "outputs": [
        {
          "output_type": "execute_result",
          "data": {
            "text/plain": [
              "ejemplo.txt MapPartitionsRDD[6] at textFile at NativeMethodAccessorImpl.java:0"
            ]
          },
          "metadata": {},
          "execution_count": 15
        }
      ],
      "source": [
        "# El MapPartitionsRDD[1] es un tipo de RDD que resulta de aplicar una función a cada partición de los datos de entrada.\n",
        "# El número [1] es el ID del RDD en el programa Spark.\n",
        "textFile"
      ]
    },
    {
      "cell_type": "markdown",
      "metadata": {
        "id": "13GlhpwtLxVW"
      },
      "source": [
        "## Acciones"
      ]
    },
    {
      "cell_type": "code",
      "execution_count": null,
      "metadata": {
        "colab": {
          "base_uri": "https://localhost:8080/"
        },
        "id": "c60zPoObLxVX",
        "outputId": "924d7bae-ae63-4c82-cdc2-6a9f469ff68a"
      },
      "outputs": [
        {
          "output_type": "execute_result",
          "data": {
            "text/plain": [
              "['Primera linea', 'Segunda linea', 'Tercera linea', 'Cuarta linea']"
            ]
          },
          "metadata": {},
          "execution_count": 7
        }
      ],
      "source": [
        "# Iniciamos la accion de collect para ver el contenido del archivo de ejemplo\n",
        "textFile.collect()"
      ]
    },
    {
      "cell_type": "code",
      "execution_count": null,
      "metadata": {
        "colab": {
          "base_uri": "https://localhost:8080/"
        },
        "id": "uGVWC9isLxVX",
        "outputId": "14a348e4-80f9-4677-dbb4-60c735d13c67"
      },
      "outputs": [
        {
          "output_type": "execute_result",
          "data": {
            "text/plain": [
              "4"
            ]
          },
          "metadata": {},
          "execution_count": 8
        }
      ],
      "source": [
        "# Obtenemos el numero de elementos de la coleccion\n",
        "textFile.count()"
      ]
    },
    {
      "cell_type": "code",
      "execution_count": null,
      "metadata": {
        "colab": {
          "base_uri": "https://localhost:8080/",
          "height": 35
        },
        "id": "4paGZ_15LxVX",
        "outputId": "4f392b94-7087-494e-b1e7-d3e486e0457e"
      },
      "outputs": [
        {
          "output_type": "execute_result",
          "data": {
            "text/plain": [
              "'Primera linea'"
            ],
            "application/vnd.google.colaboratory.intrinsic+json": {
              "type": "string"
            }
          },
          "metadata": {},
          "execution_count": 9
        }
      ],
      "source": [
        "# Esta accion devuelve el primer elemento de la coleccion\n",
        "textFile.first()"
      ]
    },
    {
      "cell_type": "markdown",
      "metadata": {
        "id": "ALTihdvGLxVY"
      },
      "source": [
        "## Transformacion"
      ]
    },
    {
      "cell_type": "code",
      "execution_count": null,
      "metadata": {
        "id": "w2TzHU3ULxVY"
      },
      "outputs": [],
      "source": [
        "# Usamos la transformacion filter para obtener las lineas que contienen la palabra \"Segunda\"\n",
        "segunda = textFile.filter(lambda line: \"Segunda\" in line)"
      ]
    },
    {
      "cell_type": "code",
      "execution_count": null,
      "metadata": {
        "colab": {
          "base_uri": "https://localhost:8080/"
        },
        "id": "zxdKI_EBLxVY",
        "outputId": "b01f2659-5b87-4a1c-beba-53d1fb9d3837"
      },
      "outputs": [
        {
          "output_type": "execute_result",
          "data": {
            "text/plain": [
              "PythonRDD[4] at RDD at PythonRDD.scala:53"
            ]
          },
          "metadata": {},
          "execution_count": 11
        }
      ],
      "source": [
        "#\n",
        "segunda"
      ]
    },
    {
      "cell_type": "code",
      "execution_count": null,
      "metadata": {
        "colab": {
          "base_uri": "https://localhost:8080/"
        },
        "id": "ByTbZY7SLxVY",
        "outputId": "5a28b3fb-4bb5-4663-b692-26513dd4b90b"
      },
      "outputs": [
        {
          "output_type": "execute_result",
          "data": {
            "text/plain": [
              "['Segunda linea']"
            ]
          },
          "metadata": {},
          "execution_count": 12
        }
      ],
      "source": [
        "segunda.collect()"
      ]
    }
  ],
  "metadata": {
    "kernelspec": {
      "display_name": "Python 3",
      "language": "python",
      "name": "python3"
    },
    "language_info": {
      "codemirror_mode": {
        "name": "ipython",
        "version": 3
      },
      "file_extension": ".py",
      "mimetype": "text/x-python",
      "name": "python",
      "nbconvert_exporter": "python",
      "pygments_lexer": "ipython3",
      "version": "3.9.7"
    },
    "colab": {
      "provenance": []
    }
  },
  "nbformat": 4,
  "nbformat_minor": 0
}