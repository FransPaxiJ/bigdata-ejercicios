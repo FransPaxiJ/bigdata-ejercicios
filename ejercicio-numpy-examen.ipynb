{
 "cells": [
  {
   "cell_type": "markdown",
   "metadata": {},
   "source": [
    "# Creación de Arrays"
   ]
  },
  {
   "cell_type": "code",
   "execution_count": 17,
   "metadata": {},
   "outputs": [
    {
     "name": "stdout",
     "output_type": "stream",
     "text": [
      "--------Ejercicio 1.1-----------\n",
      "[1 2 3 4 5]\n",
      "--------Ejercicio 1.2-----------\n",
      "[[1 2 3]\n",
      " [4 5 6]\n",
      " [7 8 9]]\n",
      "--------Ejercicio 1.3-----------\n",
      "[[0 0 0 0]\n",
      " [0 0 0 0]]\n",
      "--------Ejercicio 1.4-----------\n",
      "[[1 1]\n",
      " [1 1]\n",
      " [1 1]]\n",
      "--------Ejercicio 1.5-----------\n",
      "[[1 7 9 5]\n",
      " [9 7 5 3]\n",
      " [2 8 1 2]\n",
      " [2 7 3 5]]\n"
     ]
    }
   ],
   "source": [
    "# Importing the required library\n",
    "import numpy as np\n",
    "\n",
    "# Crea un array unidimensional (vector) con 5 elementos enteros de tu elección.\n",
    "vector = np.array([1, 2, 3, 4, 5])\n",
    "print(\"--------Ejercicio 1.1-----------\")\n",
    "print(vector)\n",
    "# Crea una matriz bidimensional (matriz) de tamaño 3x3 con valores enteros consecutivos.\n",
    "matriz = np.array([[1, 2, 3], [4, 5, 6], [7, 8, 9]])\n",
    "print(\"--------Ejercicio 1.2-----------\")\n",
    "print(matriz)\n",
    "# Utiliza la función np.zeros() para crear una matriz de tamaño 2x4 llena de ceros.\n",
    "zeros = np.zeros((2, 4), dtype=int)\n",
    "print(\"--------Ejercicio 1.3-----------\")\n",
    "print(zeros)\n",
    "# Utiliza la función np.ones() para crear una matriz de tamaño 3x2 llena de unos.\n",
    "ones = np.ones((3, 2), dtype=int)\n",
    "print(\"--------Ejercicio 1.4-----------\")\n",
    "print(ones)\n",
    "# Utiliza la función np.random.randint() para crear una matriz de tamaño 4x4 con números enteros aleatorios entre 0 y 10.\n",
    "randoms = np.random.randint(0, 10, (4, 4))\n",
    "print(\"--------Ejercicio 1.5-----------\")\n",
    "print(randoms)"
   ]
  },
  {
   "cell_type": "markdown",
   "metadata": {},
   "source": [
    "# Acceso a Elementos"
   ]
  },
  {
   "cell_type": "code",
   "execution_count": 27,
   "metadata": {},
   "outputs": [
    {
     "name": "stdout",
     "output_type": "stream",
     "text": [
      "--------Ejercicio 2.1-----------\n",
      "Vector : [1 2 3 4 5]\n",
      "Tercer elemento del vector : 3\n",
      "--------Ejercicio 2.2-----------\n",
      "Matriz : [[1 2 3]\n",
      " [4 5 6]\n",
      " [7 8 9]]\n",
      "Elemento en la segunda fila y segunda columna de la matriz : 5\n"
     ]
    }
   ],
   "source": [
    "# Accede al tercer elemento del vector creado en el paso 1.\n",
    "print(\"--------Ejercicio 2.1-----------\")\n",
    "print(f\"Vector : {vector}\")\n",
    "print(f\"Tercer elemento del vector : {vector[2]}\")\n",
    "# Accede al elemento en la segunda fila y segunda columna de la matriz creada en el paso 1.\n",
    "print(\"--------Ejercicio 2.2-----------\")\n",
    "print(f\"Matriz : {matriz}\")\n",
    "print(f\"Elemento en la segunda fila y segunda columna de la matriz : {matriz[1, 1]}\")"
   ]
  },
  {
   "cell_type": "markdown",
   "metadata": {},
   "source": [
    "# Propiedades de los Arrays"
   ]
  },
  {
   "cell_type": "code",
   "execution_count": 19,
   "metadata": {},
   "outputs": [
    {
     "name": "stdout",
     "output_type": "stream",
     "text": [
      "--------Ejercicio 3.1-----------\n",
      "Cantidad de dimensiones: 2\n",
      "--------Ejercicio 3.2-----------\n",
      "Forma de la matriz: (3, 3)\n",
      "--------Ejercicio 3.3-----------\n",
      "Tamaño total de la matriz: 9\n"
     ]
    }
   ],
   "source": [
    "# Utiliza el atributo ndim para verificar la cantidad de dimensiones de la matriz creada en el paso 1.\n",
    "num_dimensions = matriz.ndim\n",
    "print(\"--------Ejercicio 3.1-----------\")\n",
    "print(f\"Cantidad de dimensiones: {num_dimensions}\")\n",
    "\n",
    "# Utiliza el atributo shape para obtener la forma de la matriz creada en el paso 2.\n",
    "shape = matriz.shape\n",
    "print(\"--------Ejercicio 3.2-----------\")\n",
    "print(f\"Forma de la matriz: {shape}\")\n",
    "\n",
    "# Utiliza el atributo size para obtener el tamaño total de la matriz creada en el paso 2.\n",
    "size = matriz.size\n",
    "print(\"--------Ejercicio 3.3-----------\")\n",
    "print(f\"Tamaño total de la matriz: {size}\")"
   ]
  },
  {
   "cell_type": "markdown",
   "metadata": {},
   "source": [
    "# Operaciones Básicas"
   ]
  },
  {
   "cell_type": "code",
   "execution_count": 20,
   "metadata": {},
   "outputs": [
    {
     "name": "stdout",
     "output_type": "stream",
     "text": [
      "--------Ejercicio 4.1-----------\n",
      "Array 1: \n",
      "[[9 3]\n",
      " [1 2]]\n",
      "Array 2: \n",
      "[[9 1]\n",
      " [0 3]]\n",
      "Suma de los arrays: \n",
      "[[18  4]\n",
      " [ 1  5]]\n",
      "--------Ejercicio 4.2-----------\n",
      "Array 3: \n",
      "[[1 7]\n",
      " [5 8]\n",
      " [9 9]]\n",
      "Array 4: \n",
      "[[9 9 4]\n",
      " [8 6 0]]\n",
      "Multiplicación de los arrays: \n",
      "[[ 65  51   4]\n",
      " [109  93  20]\n",
      " [153 135  36]]\n",
      "--------Ejercicio 4.3-----------\n",
      "Array 5: \n",
      "[[4 1]\n",
      " [5 8]]\n",
      "Array 6: \n",
      "[[1 9]\n",
      " [8 3]]\n",
      "División de los arrays: \n",
      "[[4.         0.11111111]\n",
      " [0.625      2.66666667]]\n",
      "Multiplicación por la inversa: \n",
      "[[-0.05797101  0.50724638]\n",
      " [ 0.71014493  0.53623188]]\n"
     ]
    }
   ],
   "source": [
    "# Suma dos matrices de tamaño 2x2 con valores aleatorios entre 0 y 10.\n",
    "array1 = np.random.randint(0, 10, (2, 2))\n",
    "array2 = np.random.randint(0, 10, (2, 2))\n",
    "\n",
    "# Suma de los dos arrays\n",
    "sum_arrays = np.add(array1, array2)\n",
    "\n",
    "print(\"--------Ejercicio 4.1-----------\")\n",
    "print(f\"Array 1: \\n{array1}\")\n",
    "print(f\"Array 2: \\n{array2}\")\n",
    "print(f\"Suma de los arrays: \\n{sum_arrays}\")\n",
    "\n",
    "# Multiplica dos matrices de tamaño 3x2 y 2x3 respectivamente.\n",
    "array3 = np.random.randint(0, 10, (3, 2))\n",
    "array4 = np.random.randint(0, 10, (2, 3))\n",
    "\n",
    "# Multiplicación de los dos arrays\n",
    "mul_arrays = np.dot(array3, array4)\n",
    "\n",
    "print(\"--------Ejercicio 4.2-----------\")\n",
    "print(f\"Array 3: \\n{array3}\")\n",
    "print(f\"Array 4: \\n{array4}\")\n",
    "print(f\"Multiplicación de los arrays: \\n{mul_arrays}\")\n",
    "\n",
    "# Divide una matriz de tamaño 2x2 por otra matriz de tamaño 2x2, utilizando tanto la división por elementos como la multiplicación por la inversa.\n",
    "array5 = np.random.randint(1, 10, (2, 2))  # Avoid zero to prevent division by zero\n",
    "array6 = np.random.randint(1, 10, (2, 2))  # Avoid zero to prevent division by zero\n",
    "\n",
    "# Division de los dos arrays por elementos\n",
    "div_arrays = np.divide(array5, array6)\n",
    "\n",
    "print(\"--------Ejercicio 4.3-----------\")\n",
    "print(f\"Array 5: \\n{array5}\")\n",
    "print(f\"Array 6: \\n{array6}\")\n",
    "print(f\"División de los arrays: \\n{div_arrays}\")\n",
    "\n",
    "# Multiplicación por la inversa\n",
    "inv_array6 = np.linalg.inv(array6)\n",
    "div_arrays_inv = np.dot(array5, inv_array6)\n",
    "\n",
    "print(f\"Multiplicación por la inversa: \\n{div_arrays_inv}\")"
   ]
  },
  {
   "cell_type": "markdown",
   "metadata": {},
   "source": [
    "# Manipulación de Arrays"
   ]
  },
  {
   "cell_type": "code",
   "execution_count": 21,
   "metadata": {},
   "outputs": [
    {
     "name": "stdout",
     "output_type": "stream",
     "text": [
      "--------Ejercicio 5.1-----------\n",
      "matriz 1x9 : [[1 2 3 4 5 6 7 8 9]]\n",
      "matriz reshape : [[1]\n",
      " [2]\n",
      " [3]\n",
      " [4]\n",
      " [5]\n",
      " [6]\n",
      " [7]\n",
      " [8]\n",
      " [9]]\n",
      "--------Ejercicio 5.2-----------\n",
      "matriz : [[1 2 3]\n",
      " [4 5 6]\n",
      " [7 8 9]]\n",
      "matriz flatten : [1 2 3 4 5 6 7 8 9]\n"
     ]
    }
   ],
   "source": [
    "# Utiliza la función reshape() para convertir el vector creado en una matriz de tamaño 1x9.\n",
    "matriz_1x9 = np.array([[1, 2, 3, 4, 5, 6, 7, 8, 9]])\n",
    "matriz_reshape = matriz_1x9.reshape(9, 1)\n",
    "print(\"--------Ejercicio 5.1-----------\")\n",
    "print(f\"matriz 1x9 : {matriz_1x9}\")\n",
    "print(f\"matriz reshape : {matriz_reshape}\")\n",
    "\n",
    "# Utiliza la función flatten() para convertir la matriz creada en el paso 2 en un vector unidimensional.\n",
    "flattened_matriz = matriz.flatten()\n",
    "print(\"--------Ejercicio 5.2-----------\")\n",
    "print(f\"matriz : {matriz}\")\n",
    "print(f\"matriz flatten : {flattened_matriz}\")\n"
   ]
  },
  {
   "cell_type": "markdown",
   "metadata": {},
   "source": [
    "# Operaciones Estadísticas"
   ]
  },
  {
   "cell_type": "code",
   "execution_count": 22,
   "metadata": {},
   "outputs": [
    {
     "name": "stdout",
     "output_type": "stream",
     "text": [
      "--------Ejercicio 6.1-----------\n",
      "Matriz: \n",
      "[[1 2 3]\n",
      " [4 5 6]\n",
      " [7 8 9]]\n",
      "Suma de todos los elementos: 45\n",
      "--------Ejercicio 6.2-----------\n",
      "Matriz: \n",
      "[[1 2 3]\n",
      " [4 5 6]\n",
      " [7 8 9]]\n",
      "Media de la fila 1: 2.0\n",
      "Media de la fila 2: 5.0\n",
      "Media de la fila 3: 8.0\n"
     ]
    }
   ],
   "source": [
    "# Calcula la suma de todos los elementos de la matriz creada en el paso 1.\n",
    "suma_elementos = np.sum(matriz)\n",
    "print(\"--------Ejercicio 6.1-----------\")\n",
    "print(f\"Matriz: \\n{matriz}\")\n",
    "print(f\"Suma de todos los elementos: {suma_elementos}\")\n",
    "\n",
    "# Calcula la media de cada fila de la matriz creada en el paso 1.\n",
    "print(\"--------Ejercicio 6.2-----------\")\n",
    "print(f\"Matriz: \\n{matriz}\")\n",
    "\n",
    "# Itera sobre las filas de la matriz\n",
    "for i, row in enumerate(matriz):\n",
    "    # Calcula la media de la fila actual\n",
    "    mean_row = np.mean(row)\n",
    "    print(f\"Media de la fila {i+1}: {mean_row}\")"
   ]
  },
  {
   "cell_type": "markdown",
   "metadata": {},
   "source": [
    "# Indexación y Rebanado"
   ]
  },
  {
   "cell_type": "code",
   "execution_count": 23,
   "metadata": {},
   "outputs": [
    {
     "name": "stdout",
     "output_type": "stream",
     "text": [
      "--------Ejercicio 7.1-----------\n",
      "Matriz: \n",
      "[[1 2 3]\n",
      " [4 5 6]\n",
      " [7 8 9]]\n",
      "Primera fila: [1 2 3]\n",
      "--------Ejercicio 7.2-----------\n",
      "Matriz: \n",
      "[[1 2 3]\n",
      " [4 5 6]\n",
      " [7 8 9]]\n",
      "Primeras dos columnas: \n",
      "[[1 2]\n",
      " [4 5]\n",
      " [7 8]]\n"
     ]
    }
   ],
   "source": [
    "# Imprime la primera fila de la matriz creada en el paso 1.\n",
    "primer_fila = matriz[0]\n",
    "print(\"--------Ejercicio 7.1-----------\")\n",
    "print(f\"Matriz: \\n{matriz}\")\n",
    "print(f\"Primera fila: {primer_fila}\")\n",
    "\n",
    "# Imprime las primeras dos columnas de la matriz creada en el paso 2.\n",
    "primeras_dos_columnas = matriz[:, :2]\n",
    "print(\"--------Ejercicio 7.2-----------\")\n",
    "print(f\"Matriz: \\n{matriz}\")\n",
    "print(f\"Primeras dos columnas: \\n{primeras_dos_columnas}\")"
   ]
  },
  {
   "cell_type": "markdown",
   "metadata": {},
   "source": [
    "# Ejercicio Adicional"
   ]
  },
  {
   "cell_type": "code",
   "execution_count": 24,
   "metadata": {},
   "outputs": [
    {
     "name": "stdout",
     "output_type": "stream",
     "text": [
      "--------Ejercicio 8.1-----------\n",
      "Matriz aleatoria: \n",
      "[[0.56456283 0.22039269 0.72756238 0.82315907]\n",
      " [0.40444419 0.72496854 0.79948906 0.95621806]\n",
      " [0.70306473 0.76181725 0.72195304 0.13647904]\n",
      " [0.85137753 0.34207667 0.04025008 0.81563558]]\n",
      "--------Ejercicio 8.2-----------\n",
      "Valor máximo: 0.9562180550207748\n",
      "Valor mínimo: 0.040250075847447\n",
      "Posición del valor máximo: (1, 3)\n",
      "Posición del valor mínimo: (3, 2)\n"
     ]
    }
   ],
   "source": [
    "# Define una matriz de tamaño 4x4 con valores aleatorios.\n",
    "additional_array = np.random.rand(4, 4)\n",
    "\n",
    "print(\"--------Ejercicio 8.1-----------\")\n",
    "print(f\"Matriz aleatoria: \\n{additional_array}\")\n",
    "\n",
    "# Escribe un código para encontrar el valor máximo y mínimo de la matriz, así como su posición.\n",
    "max_value = np.max(additional_array)\n",
    "min_value = np.min(additional_array)\n",
    "max_position = np.unravel_index(np.argmax(additional_array), additional_array.shape)\n",
    "min_position = np.unravel_index(np.argmin(additional_array), additional_array.shape)\n",
    "\n",
    "print(\"--------Ejercicio 8.2-----------\")\n",
    "print(f\"Valor máximo: {max_value}\")\n",
    "print(f\"Valor mínimo: {min_value}\")\n",
    "print(f\"Posición del valor máximo: {max_position}\")\n",
    "print(f\"Posición del valor mínimo: {min_position}\")"
   ]
  }
 ],
 "metadata": {
  "kernelspec": {
   "display_name": "Python 3",
   "language": "python",
   "name": "python3"
  },
  "language_info": {
   "codemirror_mode": {
    "name": "ipython",
    "version": 3
   },
   "file_extension": ".py",
   "mimetype": "text/x-python",
   "name": "python",
   "nbconvert_exporter": "python",
   "pygments_lexer": "ipython3",
   "version": "3.9.7"
  },
  "orig_nbformat": 4
 },
 "nbformat": 4,
 "nbformat_minor": 2
}
