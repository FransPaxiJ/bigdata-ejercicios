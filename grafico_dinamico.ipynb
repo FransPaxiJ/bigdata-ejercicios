{
 "cells": [
  {
   "cell_type": "code",
   "execution_count": 9,
   "metadata": {},
   "outputs": [
    {
     "name": "stdout",
     "output_type": "stream",
     "text": [
      "Requirement already satisfied: pandas in c:\\users\\frans\\appdata\\local\\programs\\python\\python39\\lib\\site-packages (2.0.3)\n",
      "Requirement already satisfied: python-dateutil>=2.8.2 in c:\\users\\frans\\appdata\\local\\programs\\python\\python39\\lib\\site-packages (from pandas) (2.8.2)\n",
      "Requirement already satisfied: pytz>=2020.1 in c:\\users\\frans\\appdata\\local\\programs\\python\\python39\\lib\\site-packages (from pandas) (2023.3)\n",
      "Requirement already satisfied: tzdata>=2022.1 in c:\\users\\frans\\appdata\\local\\programs\\python\\python39\\lib\\site-packages (from pandas) (2023.3)\n",
      "Requirement already satisfied: numpy>=1.20.3 in c:\\users\\frans\\appdata\\local\\programs\\python\\python39\\lib\\site-packages (from pandas) (1.25.2)\n",
      "Requirement already satisfied: six>=1.5 in c:\\users\\frans\\appdata\\local\\programs\\python\\python39\\lib\\site-packages (from python-dateutil>=2.8.2->pandas) (1.16.0)\n",
      "Note: you may need to restart the kernel to use updated packages.\n"
     ]
    }
   ],
   "source": [
    "%pip install pandas\n",
    "import pandas as pd"
   ]
  },
  {
   "cell_type": "code",
   "execution_count": 10,
   "metadata": {},
   "outputs": [
    {
     "name": "stdout",
     "output_type": "stream",
     "text": [
      "           Peru  Bolivia  Brasil  Argentina  Chile  Mexico  Alemania\n",
      "Fecha                                                               \n",
      "20/3/2020     1        0       0          0      0       3         0\n",
      "21/3/2020     5       12      15          2      4       7         2\n",
      "22/3/2020    21       25      27          7      8      37         3\n",
      "23/3/2020    41       30      36         11     10      64         4\n",
      "24/3/2020    45       38      44         16     15      78         6\n",
      "25/3/2020    62       42      50         28     17      86         7\n",
      "26/3/2020    81       55      61         32     18      87         9\n",
      "27/3/2020    83       57      73         42     21      88        11\n",
      "28/3/2020   101       62      88         50     26      98        13\n",
      "29/3/2020   106       63     103         55     30     107        14\n",
      "30/3/2020   111       81     113         62     35     128        15\n",
      "31/3/2020   125       83     118         66     40     142        17\n",
      "1/4/2020    137       92     133         77     41     156        19\n",
      "2/4/2020    147      109     135         82     46     164        21\n",
      "3/4/2020    165      114     146         94     51     170        23\n",
      "4/4/2020    170      122     155         96     53     187        24\n",
      "5/4/2020    175      140     163        101     54     208        25\n",
      "6/4/2020    189      142     166        110     55     211        27\n",
      "7/4/2020    204      158     170        115     60     232        29\n",
      "8/4/2020    208      174     182        127     64     245        30\n",
      "9/4/2020    224      185     190        135     67     272        31\n",
      "10/4/2020   229      193     197        139     68     275        32\n",
      "11/4/2020   244      210     206        150     73     282        34\n",
      "12/4/2020   258      224     213        157     75     310        36\n",
      "13/4/2020   270      236     224        168     79     340        37\n",
      "14/4/2020   287      251     239        170     84     343        38\n",
      "15/4/2020   299      253     243        173     88     358        39\n",
      "16/4/2020   316      263     244        176     91     377        40\n",
      "17/4/2020   331      281     258        178     93     403        41\n",
      "18/4/2020   351      287     270        183     98     424        43\n",
      "19/4/2020   353      288     273        187    102     443        44\n",
      "20/4/2020   356      294     279        194    104     473        45\n"
     ]
    }
   ],
   "source": [
    "data = pd.read_csv(\"https://docs.google.com/spreadsheets/d/e/2PACX-1vQmOXfY95vO7eGw_BxvLZnMN4i1SRX9GPjQkFVHobJch2jlIJwZHo7zyxQ3ym0em23EOfG6AYxRy_4f/pub?gid=1871070894&single=true&output=csv\", index_col=\"Fecha\",)\n",
    "print(data)"
   ]
  },
  {
   "cell_type": "code",
   "execution_count": 11,
   "metadata": {},
   "outputs": [
    {
     "name": "stdout",
     "output_type": "stream",
     "text": [
      "Requirement already satisfied: bar-chart-race in c:\\users\\frans\\appdata\\local\\programs\\python\\python39\\lib\\site-packages (0.1.0)\n",
      "Requirement already satisfied: pandas>=0.24 in c:\\users\\frans\\appdata\\local\\programs\\python\\python39\\lib\\site-packages (from bar-chart-race) (2.0.3)\n",
      "Requirement already satisfied: matplotlib>=3.1 in c:\\users\\frans\\appdata\\local\\programs\\python\\python39\\lib\\site-packages (from bar-chart-race) (3.8.2)\n",
      "Requirement already satisfied: contourpy>=1.0.1 in c:\\users\\frans\\appdata\\local\\programs\\python\\python39\\lib\\site-packages (from matplotlib>=3.1->bar-chart-race) (1.2.0)\n",
      "Requirement already satisfied: cycler>=0.10 in c:\\users\\frans\\appdata\\local\\programs\\python\\python39\\lib\\site-packages (from matplotlib>=3.1->bar-chart-race) (0.12.1)\n",
      "Requirement already satisfied: fonttools>=4.22.0 in c:\\users\\frans\\appdata\\local\\programs\\python\\python39\\lib\\site-packages (from matplotlib>=3.1->bar-chart-race) (4.48.1)\n",
      "Requirement already satisfied: kiwisolver>=1.3.1 in c:\\users\\frans\\appdata\\local\\programs\\python\\python39\\lib\\site-packages (from matplotlib>=3.1->bar-chart-race) (1.4.5)\n",
      "Requirement already satisfied: numpy<2,>=1.21 in c:\\users\\frans\\appdata\\local\\programs\\python\\python39\\lib\\site-packages (from matplotlib>=3.1->bar-chart-race) (1.25.2)\n",
      "Requirement already satisfied: packaging>=20.0 in c:\\users\\frans\\appdata\\local\\programs\\python\\python39\\lib\\site-packages (from matplotlib>=3.1->bar-chart-race) (23.1)\n",
      "Requirement already satisfied: pillow>=8 in c:\\users\\frans\\appdata\\local\\programs\\python\\python39\\lib\\site-packages (from matplotlib>=3.1->bar-chart-race) (10.2.0)\n",
      "Requirement already satisfied: pyparsing>=2.3.1 in c:\\users\\frans\\appdata\\local\\programs\\python\\python39\\lib\\site-packages (from matplotlib>=3.1->bar-chart-race) (3.1.1)\n",
      "Requirement already satisfied: python-dateutil>=2.7 in c:\\users\\frans\\appdata\\local\\programs\\python\\python39\\lib\\site-packages (from matplotlib>=3.1->bar-chart-race) (2.8.2)\n",
      "Requirement already satisfied: importlib-resources>=3.2.0 in c:\\users\\frans\\appdata\\local\\programs\\python\\python39\\lib\\site-packages (from matplotlib>=3.1->bar-chart-race) (6.1.1)\n",
      "Requirement already satisfied: pytz>=2020.1 in c:\\users\\frans\\appdata\\local\\programs\\python\\python39\\lib\\site-packages (from pandas>=0.24->bar-chart-race) (2023.3)\n",
      "Requirement already satisfied: tzdata>=2022.1 in c:\\users\\frans\\appdata\\local\\programs\\python\\python39\\lib\\site-packages (from pandas>=0.24->bar-chart-race) (2023.3)\n",
      "Requirement already satisfied: zipp>=3.1.0 in c:\\users\\frans\\appdata\\roaming\\python\\python39\\site-packages (from importlib-resources>=3.2.0->matplotlib>=3.1->bar-chart-race) (3.17.0)\n",
      "Requirement already satisfied: six>=1.5 in c:\\users\\frans\\appdata\\local\\programs\\python\\python39\\lib\\site-packages (from python-dateutil>=2.7->matplotlib>=3.1->bar-chart-race) (1.16.0)\n",
      "Note: you may need to restart the kernel to use updated packages.\n"
     ]
    }
   ],
   "source": [
    "%pip install bar-chart-race"
   ]
  },
  {
   "cell_type": "code",
   "execution_count": 12,
   "metadata": {},
   "outputs": [
    {
     "name": "stdout",
     "output_type": "stream",
     "text": [
      "Requirement already satisfied: ffmpeg in c:\\users\\frans\\appdata\\local\\programs\\python\\python39\\lib\\site-packages (1.4)\n",
      "Note: you may need to restart the kernel to use updated packages.\n"
     ]
    },
    {
     "name": "stderr",
     "output_type": "stream",
     "text": [
      "c:\\Users\\frans\\AppData\\Local\\Programs\\Python\\Python39\\lib\\site-packages\\bar_chart_race\\_make_chart.py:286: UserWarning: set_ticklabels() should only be used with a fixed number of ticks, i.e. after set_ticks() or using a FixedLocator.\n",
      "  ax.set_yticklabels(self.df_values.columns)\n",
      "c:\\Users\\frans\\AppData\\Local\\Programs\\Python\\Python39\\lib\\site-packages\\bar_chart_race\\_make_chart.py:287: UserWarning: set_ticklabels() should only be used with a fixed number of ticks, i.e. after set_ticks() or using a FixedLocator.\n",
      "  ax.set_xticklabels([max_val] * len(ax.get_xticks()))\n"
     ]
    },
    {
     "ename": "Exception",
     "evalue": "You do not have ffmpeg installed on your machine. Download\n                            ffmpeg from here: https://www.ffmpeg.org/download.html.\n                            \n                            Matplotlib's original error message below:\n\n                            Requested MovieWriter (ffmpeg) not available\n                            ",
     "output_type": "error",
     "traceback": [
      "\u001b[1;31m---------------------------------------------------------------------------\u001b[0m",
      "\u001b[1;31mRuntimeError\u001b[0m                              Traceback (most recent call last)",
      "File \u001b[1;32mc:\\Users\\frans\\AppData\\Local\\Programs\\Python\\Python39\\lib\\site-packages\\bar_chart_race\\_make_chart.py:428\u001b[0m, in \u001b[0;36m_BarChartRace.make_animation\u001b[1;34m(self)\u001b[0m\n\u001b[0;32m    427\u001b[0m \u001b[38;5;28;01mif\u001b[39;00m \u001b[38;5;28mself\u001b[39m\u001b[38;5;241m.\u001b[39mhtml:\n\u001b[1;32m--> 428\u001b[0m     ret_val \u001b[38;5;241m=\u001b[39m \u001b[43manim\u001b[49m\u001b[38;5;241;43m.\u001b[39;49m\u001b[43mto_html5_video\u001b[49m\u001b[43m(\u001b[49m\u001b[43m)\u001b[49m\n\u001b[0;32m    429\u001b[0m     \u001b[38;5;28;01mtry\u001b[39;00m:\n",
      "File \u001b[1;32mc:\\Users\\frans\\AppData\\Local\\Programs\\Python\\Python39\\lib\\site-packages\\matplotlib\\animation.py:1285\u001b[0m, in \u001b[0;36mAnimation.to_html5_video\u001b[1;34m(self, embed_limit)\u001b[0m\n\u001b[0;32m   1283\u001b[0m \u001b[38;5;66;03m# We create a writer manually so that we can get the\u001b[39;00m\n\u001b[0;32m   1284\u001b[0m \u001b[38;5;66;03m# appropriate size for the tag\u001b[39;00m\n\u001b[1;32m-> 1285\u001b[0m Writer \u001b[38;5;241m=\u001b[39m \u001b[43mwriters\u001b[49m\u001b[43m[\u001b[49m\u001b[43mmpl\u001b[49m\u001b[38;5;241;43m.\u001b[39;49m\u001b[43mrcParams\u001b[49m\u001b[43m[\u001b[49m\u001b[38;5;124;43m'\u001b[39;49m\u001b[38;5;124;43manimation.writer\u001b[39;49m\u001b[38;5;124;43m'\u001b[39;49m\u001b[43m]\u001b[49m\u001b[43m]\u001b[49m\n\u001b[0;32m   1286\u001b[0m writer \u001b[38;5;241m=\u001b[39m Writer(codec\u001b[38;5;241m=\u001b[39m\u001b[38;5;124m'\u001b[39m\u001b[38;5;124mh264\u001b[39m\u001b[38;5;124m'\u001b[39m,\n\u001b[0;32m   1287\u001b[0m                 bitrate\u001b[38;5;241m=\u001b[39mmpl\u001b[38;5;241m.\u001b[39mrcParams[\u001b[38;5;124m'\u001b[39m\u001b[38;5;124manimation.bitrate\u001b[39m\u001b[38;5;124m'\u001b[39m],\n\u001b[0;32m   1288\u001b[0m                 fps\u001b[38;5;241m=\u001b[39m\u001b[38;5;241m1000.\u001b[39m \u001b[38;5;241m/\u001b[39m \u001b[38;5;28mself\u001b[39m\u001b[38;5;241m.\u001b[39m_interval)\n",
      "File \u001b[1;32mc:\\Users\\frans\\AppData\\Local\\Programs\\Python\\Python39\\lib\\site-packages\\matplotlib\\animation.py:148\u001b[0m, in \u001b[0;36mMovieWriterRegistry.__getitem__\u001b[1;34m(self, name)\u001b[0m\n\u001b[0;32m    147\u001b[0m     \u001b[38;5;28;01mreturn\u001b[39;00m \u001b[38;5;28mself\u001b[39m\u001b[38;5;241m.\u001b[39m_registered[name]\n\u001b[1;32m--> 148\u001b[0m \u001b[38;5;28;01mraise\u001b[39;00m \u001b[38;5;167;01mRuntimeError\u001b[39;00m(\u001b[38;5;124mf\u001b[39m\u001b[38;5;124m\"\u001b[39m\u001b[38;5;124mRequested MovieWriter (\u001b[39m\u001b[38;5;132;01m{\u001b[39;00mname\u001b[38;5;132;01m}\u001b[39;00m\u001b[38;5;124m) not available\u001b[39m\u001b[38;5;124m\"\u001b[39m)\n",
      "\u001b[1;31mRuntimeError\u001b[0m: Requested MovieWriter (ffmpeg) not available",
      "\nDuring handling of the above exception, another exception occurred:\n",
      "\u001b[1;31mException\u001b[0m                                 Traceback (most recent call last)",
      "Cell \u001b[1;32mIn[12], line 3\u001b[0m\n\u001b[0;32m      1\u001b[0m get_ipython()\u001b[38;5;241m.\u001b[39mrun_line_magic(\u001b[38;5;124m'\u001b[39m\u001b[38;5;124mpip\u001b[39m\u001b[38;5;124m'\u001b[39m, \u001b[38;5;124m'\u001b[39m\u001b[38;5;124minstall ffmpeg\u001b[39m\u001b[38;5;124m'\u001b[39m)\n\u001b[0;32m      2\u001b[0m \u001b[38;5;28;01mimport\u001b[39;00m \u001b[38;5;21;01mbar_chart_race\u001b[39;00m \u001b[38;5;28;01mas\u001b[39;00m \u001b[38;5;21;01mbcarrera\u001b[39;00m\n\u001b[1;32m----> 3\u001b[0m \u001b[43mbcarrera\u001b[49m\u001b[38;5;241;43m.\u001b[39;49m\u001b[43mbar_chart_race\u001b[49m\u001b[43m(\u001b[49m\u001b[43mdf\u001b[49m\u001b[38;5;241;43m=\u001b[39;49m\u001b[43mdata\u001b[49m\u001b[43m)\u001b[49m\n",
      "File \u001b[1;32mc:\\Users\\frans\\AppData\\Local\\Programs\\Python\\Python39\\lib\\site-packages\\bar_chart_race\\_make_chart.py:783\u001b[0m, in \u001b[0;36mbar_chart_race\u001b[1;34m(df, filename, orientation, sort, n_bars, fixed_order, fixed_max, steps_per_period, period_length, interpolate_period, label_bars, bar_size, period_label, period_fmt, period_summary_func, perpendicular_bar_func, figsize, cmap, title, title_size, bar_label_size, tick_label_size, shared_fontdict, scale, writer, fig, dpi, bar_kwargs, filter_column_colors)\u001b[0m\n\u001b[0;32m    461\u001b[0m \u001b[38;5;250m\u001b[39m\u001b[38;5;124;03m'''\u001b[39;00m\n\u001b[0;32m    462\u001b[0m \u001b[38;5;124;03mCreate an animated bar chart race using matplotlib. Data must be in \u001b[39;00m\n\u001b[0;32m    463\u001b[0m \u001b[38;5;124;03m'wide' format where each row represents a single time period and each \u001b[39;00m\n\u001b[1;32m   (...)\u001b[0m\n\u001b[0;32m    776\u001b[0m \u001b[38;5;124;03mThese sizes are relative to plt.rcParams['font.size'].\u001b[39;00m\n\u001b[0;32m    777\u001b[0m \u001b[38;5;124;03m'''\u001b[39;00m\n\u001b[0;32m    778\u001b[0m bcr \u001b[38;5;241m=\u001b[39m _BarChartRace(df, filename, orientation, sort, n_bars, fixed_order, fixed_max,\n\u001b[0;32m    779\u001b[0m                     steps_per_period, period_length, interpolate_period, label_bars, bar_size, \n\u001b[0;32m    780\u001b[0m                     period_label, period_fmt, period_summary_func, perpendicular_bar_func, \n\u001b[0;32m    781\u001b[0m                     figsize, cmap, title, title_size, bar_label_size, tick_label_size, \n\u001b[0;32m    782\u001b[0m                     shared_fontdict, scale, writer, fig, dpi, bar_kwargs, filter_column_colors)\n\u001b[1;32m--> 783\u001b[0m \u001b[38;5;28;01mreturn\u001b[39;00m \u001b[43mbcr\u001b[49m\u001b[38;5;241;43m.\u001b[39;49m\u001b[43mmake_animation\u001b[49m\u001b[43m(\u001b[49m\u001b[43m)\u001b[49m\n",
      "File \u001b[1;32mc:\\Users\\frans\\AppData\\Local\\Programs\\Python\\Python39\\lib\\site-packages\\bar_chart_race\\_make_chart.py:446\u001b[0m, in \u001b[0;36m_BarChartRace.make_animation\u001b[1;34m(self)\u001b[0m\n\u001b[0;32m    444\u001b[0m     \u001b[38;5;28;01melse\u001b[39;00m:\n\u001b[0;32m    445\u001b[0m         message \u001b[38;5;241m=\u001b[39m \u001b[38;5;28mstr\u001b[39m(e)\n\u001b[1;32m--> 446\u001b[0m     \u001b[38;5;28;01mraise\u001b[39;00m \u001b[38;5;167;01mException\u001b[39;00m(message)\n\u001b[0;32m    447\u001b[0m \u001b[38;5;28;01mfinally\u001b[39;00m:\n\u001b[0;32m    448\u001b[0m     plt\u001b[38;5;241m.\u001b[39mrcParams \u001b[38;5;241m=\u001b[39m \u001b[38;5;28mself\u001b[39m\u001b[38;5;241m.\u001b[39morig_rcParams\n",
      "\u001b[1;31mException\u001b[0m: You do not have ffmpeg installed on your machine. Download\n                            ffmpeg from here: https://www.ffmpeg.org/download.html.\n                            \n                            Matplotlib's original error message below:\n\n                            Requested MovieWriter (ffmpeg) not available\n                            "
     ]
    }
   ],
   "source": [
    "%pip install ffmpeg\n",
    "import bar_chart_race as bcarrera\n",
    "bcarrera.bar_chart_race(df=data)"
   ]
  }
 ],
 "metadata": {
  "kernelspec": {
   "display_name": "Python 3",
   "language": "python",
   "name": "python3"
  },
  "language_info": {
   "codemirror_mode": {
    "name": "ipython",
    "version": 3
   },
   "file_extension": ".py",
   "mimetype": "text/x-python",
   "name": "python",
   "nbconvert_exporter": "python",
   "pygments_lexer": "ipython3",
   "version": "3.9.7"
  }
 },
 "nbformat": 4,
 "nbformat_minor": 2
}
