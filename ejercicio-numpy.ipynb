{
 "cells": [
  {
   "cell_type": "code",
   "execution_count": 5,
   "metadata": {},
   "outputs": [
    {
     "name": "stdout",
     "output_type": "stream",
     "text": [
      "Requirement already satisfied: numpy in c:\\users\\frans\\appdata\\local\\programs\\python\\python39\\lib\\site-packages (1.25.2)\n",
      "Note: you may need to restart the kernel to use updated packages.\n"
     ]
    }
   ],
   "source": [
    "%pip install numpy\n",
    "import numpy as np"
   ]
  },
  {
   "cell_type": "code",
   "execution_count": 63,
   "metadata": {},
   "outputs": [
    {
     "name": "stdout",
     "output_type": "stream",
     "text": [
      "[1 2 3 9 8 7]\n",
      "2\n"
     ]
    }
   ],
   "source": [
    "# 1x6 6x1 2x3 y 3x2\n",
    "arreglo = np.array([1,2,3,9,8,7]) # creamos un array de una dimension\n",
    "print(arreglo)\n",
    "\n",
    "# Hacer referencia\n",
    "numero_par=arreglo[1] #Hacemos referencia al numero 2 que esta en el indice 1\n",
    "print(numero_par)"
   ]
  },
  {
   "cell_type": "code",
   "execution_count": 8,
   "metadata": {},
   "outputs": [
    {
     "name": "stdout",
     "output_type": "stream",
     "text": [
      "[[ 1  2  3]\n",
      " [ 4  5  6]\n",
      " [ 7  8  9]\n",
      " [ 0 -1 -2]]\n"
     ]
    }
   ],
   "source": [
    "# tablero tiene 2 dimensiones\n",
    "tablero = np.array([[1,2,3],[4,5,6],[7,8,9],[0,-1,-2]])\n",
    "print (tablero)"
   ]
  },
  {
   "cell_type": "code",
   "execution_count": 13,
   "metadata": {},
   "outputs": [
    {
     "name": "stdout",
     "output_type": "stream",
     "text": [
      "1\n",
      "-2\n",
      "9\n"
     ]
    }
   ],
   "source": [
    "# ejemplos de referencia a elementos de un arreglo bidimensional\n",
    "n1 = tablero[0][0] #Hacemos referencia al elemento ubicado en la fila 0 y columna 0\n",
    "print(n1)\n",
    "n2 = tablero[3][2] #Hacemos referencia al elemento ubicado en la fila 3 y columna 2\n",
    "print(n2)\n",
    "n3 = tablero[2][2] #Hacemos referencia al elemento ubicado en la fila 2 y columna 2\n",
    "print(n3)\n",
    "# recordar que los indices empiezan en 0"
   ]
  },
  {
   "cell_type": "code",
   "execution_count": 15,
   "metadata": {},
   "outputs": [
    {
     "name": "stdout",
     "output_type": "stream",
     "text": [
      "1\n",
      "2\n"
     ]
    }
   ],
   "source": [
    "# Numero de dimensiones, usamos la propiedad ndim para obtener la dimension de un array\n",
    "print(arreglo.ndim) # 1\n",
    "print(tablero.ndim) # 2"
   ]
  },
  {
   "cell_type": "code",
   "execution_count": 17,
   "metadata": {},
   "outputs": [
    {
     "name": "stdout",
     "output_type": "stream",
     "text": [
      "(3,)\n",
      "(4, 3)\n"
     ]
    }
   ],
   "source": [
    "# propiedad \"shape\", nos devuelve el numero de columnas y filas de un array\n",
    "print(arreglo.shape) # (3,) significa que es un array de 3 elementos\n",
    "print(tablero.shape) # (4,3) significa que es un array de 4 filas y 3 columnas"
   ]
  },
  {
   "cell_type": "code",
   "execution_count": 18,
   "metadata": {},
   "outputs": [
    {
     "name": "stdout",
     "output_type": "stream",
     "text": [
      "3\n",
      "12\n"
     ]
    }
   ],
   "source": [
    "# propiedad \"size\", nos devuelve el numero total de elementos de un array\n",
    "print(arreglo.size) # 3 elementos\n",
    "print(tablero.size) # 12 elementos"
   ]
  },
  {
   "cell_type": "code",
   "execution_count": 20,
   "metadata": {},
   "outputs": [
    {
     "name": "stdout",
     "output_type": "stream",
     "text": [
      "[[0 0 0 0 0 0 0 0]\n",
      " [0 0 0 0 0 0 0 0]\n",
      " [0 0 0 0 0 0 0 0]\n",
      " [0 0 0 0 0 0 0 0]\n",
      " [0 0 0 0 0 0 0 0]\n",
      " [0 0 0 0 0 0 0 0]\n",
      " [0 0 0 0 0 0 0 0]\n",
      " [0 0 0 0 0 0 0 0]]\n",
      "[[1 1 1 1 1 1 1 1]\n",
      " [1 1 1 1 1 1 1 1]\n",
      " [1 1 1 1 1 1 1 1]\n",
      " [1 1 1 1 1 1 1 1]\n",
      " [1 1 1 1 1 1 1 1]\n",
      " [1 1 1 1 1 1 1 1]\n",
      " [1 1 1 1 1 1 1 1]\n",
      " [1 1 1 1 1 1 1 1]]\n"
     ]
    }
   ],
   "source": [
    "# otras funciones utiles\n",
    "tablero_ceros = np.zeros((8,8),int) # creamos un tablero de 8x8 con ceros\n",
    "print(tablero_ceros)\n",
    "\n",
    "tablero_unos = np.ones((8,8),int) # creamos un tablero de 8x8 con unos\n",
    "print(tablero_unos)"
   ]
  },
  {
   "cell_type": "code",
   "execution_count": 22,
   "metadata": {},
   "outputs": [
    {
     "name": "stdout",
     "output_type": "stream",
     "text": [
      "[[5 5 5 5 5 5 5 5]\n",
      " [5 5 5 5 5 5 5 5]\n",
      " [5 5 5 5 5 5 5 5]\n",
      " [5 5 5 5 5 5 5 5]\n",
      " [5 5 5 5 5 5 5 5]\n",
      " [5 5 5 5 5 5 5 5]\n",
      " [5 5 5 5 5 5 5 5]\n",
      " [5 5 5 5 5 5 5 5]]\n"
     ]
    }
   ],
   "source": [
    "# creamos un tablero inicializado a cualquier valor, este caso es 5\n",
    "tablero_inicializado = np.full((8,8), 5, int)\n",
    "print(tablero_inicializado)\n"
   ]
  },
  {
   "cell_type": "code",
   "execution_count": 24,
   "metadata": {},
   "outputs": [
    {
     "name": "stdout",
     "output_type": "stream",
     "text": [
      "[[0.22455243 0.03452061 0.12209617]\n",
      " [0.74833008 0.23973185 0.14555626]\n",
      " [0.10211738 0.29975104 0.81369891]]\n"
     ]
    }
   ],
   "source": [
    "# arreglo inicializado con valores aleatorios\n",
    "arreglo_aleatorio = np.random.random((3,3))\n",
    "print(arreglo_aleatorio)"
   ]
  },
  {
   "cell_type": "code",
   "execution_count": 29,
   "metadata": {},
   "outputs": [
    {
     "name": "stdout",
     "output_type": "stream",
     "text": [
      "[[ 6  3  7  6  4  1  3  9]\n",
      " [ 6  8  7  3  2 10  1  8]\n",
      " [ 3  5  7  9  8  5  7  4]\n",
      " [ 8 10  2  2  1  9  7  2]\n",
      " [ 8  3  6  4  6  1  5  8]\n",
      " [10  3  3  4  8  2  1  6]\n",
      " [10 10  3  4  6  9  3  6]\n",
      " [ 8  8  4  8 10  2 10  3]]\n"
     ]
    }
   ],
   "source": [
    "# arreglo inicializado con valores aleatorios enteros\n",
    "# el 1 y 10 son los valores minimo y maximo que puede tomar el numero aleatorio\n",
    "arreglo_aleatorio_enteros = np.random.randint(1,11,size=(8,8))\n",
    "print(arreglo_aleatorio_enteros)"
   ]
  },
  {
   "cell_type": "code",
   "execution_count": 60,
   "metadata": {},
   "outputs": [
    {
     "name": "stdout",
     "output_type": "stream",
     "text": [
      "53\n",
      "la suma de la fila 0 es 39\n",
      "la suma de la fila 1 es 45\n",
      "la suma de la fila 2 es 48\n",
      "la suma de la fila 3 es 41\n",
      "la suma de la fila 4 es 41\n",
      "la suma de la fila 5 es 37\n",
      "la suma de la fila 6 es 51\n",
      "la suma de la fila 7 es 53\n"
     ]
    }
   ],
   "source": [
    "# sumar la fila indicada de un arreglo\n",
    "suma_fila1 = np.sum(arreglo_aleatorio_enteros[7])\n",
    "suma_fila2 = np.sum(arreglo_aleatorio_enteros[1])\n",
    "\n",
    "print(suma_fila1)\n",
    "\n",
    "# summar con un for\n",
    "suma_fila2_for = 0\n",
    "for i in range(8): # este for dara 8 vueltas\n",
    "    suma_fila1_for = 0\n",
    "    for j in range(8): # este for dara 8 vueltas\n",
    "        suma_fila1_for += arreglo_aleatorio_enteros[i][j]\n",
    "    print(f\"la suma de la fila {i} es {suma_fila1_for}\")"
   ]
  },
  {
   "cell_type": "code",
   "execution_count": 68,
   "metadata": {},
   "outputs": [
    {
     "name": "stdout",
     "output_type": "stream",
     "text": [
      "[[1]\n",
      " [2]\n",
      " [3]\n",
      " [9]\n",
      " [8]\n",
      " [7]]\n",
      "[[1 2]\n",
      " [3 9]\n",
      " [8 7]]\n"
     ]
    }
   ],
   "source": [
    "# propiedad \"reshape\", nos permite redimensionar un array, siempre y cuando la multiplicacion de las \n",
    "# dimensiones sea igual al numero total de elementos del array original \"arreglo\"\n",
    "\n",
    "# Redimensionamos \"arreglo\" a una matriz de 6x1\n",
    "nuevo_arreglo = arreglo.reshape(6,1)\n",
    "print(nuevo_arreglo)\n",
    "# Redimensionamos \"arreglo\" a una matriz de 3x2\n",
    "nuevo_arreglo2 = arreglo.reshape(3,2)\n",
    "print(nuevo_arreglo2)"
   ]
  }
 ],
 "metadata": {
  "kernelspec": {
   "display_name": "Python 3",
   "language": "python",
   "name": "python3"
  },
  "language_info": {
   "codemirror_mode": {
    "name": "ipython",
    "version": 3
   },
   "file_extension": ".py",
   "mimetype": "text/x-python",
   "name": "python",
   "nbconvert_exporter": "python",
   "pygments_lexer": "ipython3",
   "version": "3.9.7"
  }
 },
 "nbformat": 4,
 "nbformat_minor": 2
}
